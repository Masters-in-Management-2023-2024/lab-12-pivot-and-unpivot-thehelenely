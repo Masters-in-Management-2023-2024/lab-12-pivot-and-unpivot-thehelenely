{
  "cells": [
    {
      "cell_type": "markdown",
      "metadata": {
        "id": "Vd9Cr_qO8wY6"
      },
      "source": [
        "# Lab 12 - Pivoting and unpivoting\n",
        "\n",
        "This lab focuses on data transformation using pivoting and unpivoting operations with the polars library."
      ]
    },
    {
      "cell_type": "markdown",
      "metadata": {
        "id": "bp04AGvp8wY_"
      },
      "source": [
        "## Load your packages\n",
        "\n",
        "You will need the `polars` package for this assignment. We'll also use `numpy` for some calculations."
      ]
    },
    {
      "cell_type": "code",
      "execution_count": null,
      "metadata": {
        "id": "1-phRcSn8wZC"
      },
      "outputs": [],
      "source": [
        "# Import required packages\n",
        "import polars as pl"
      ]
    },
    {
      "cell_type": "markdown",
      "metadata": {
        "id": "npay8AHB8wZE"
      },
      "source": [
        "# Question 1: Pivot US Economic Indicator Data"
      ]
    },
    {
      "cell_type": "markdown",
      "metadata": {
        "id": "L6S83pKo8wZo"
      },
      "source": [
        "## 1a. Pivot data\n",
        "\n",
        "Load the `economics_long.csv` dataset from the `data/` folder. You'll notice that in the `economics_long` dataset's `value` column, there are different types of measurements. Transform this dataset so that the unique values for the `variable` field become columns of their own.\n",
        "\n",
        "**Please write code below to pivot the data. The output should be a DataFrame. You must \"pivot\" the data to receive full credit on this question.**"
      ]
    },
    {
      "cell_type": "code",
      "execution_count": null,
      "metadata": {
        "colab": {
          "base_uri": "https://localhost:8080/"
        },
        "id": "UR1UIuMr8wZo",
        "outputId": "0e870920-83a0-455a-da15-38d5bc5f7e1d"
      },
      "outputs": [
        {
          "output_type": "stream",
          "name": "stdout",
          "text": [
            "shape: (5, 6)\n",
            "┌────────────┬───────┬──────────┬─────────┬─────────┬──────────┐\n",
            "│ date       ┆ pce   ┆ pop      ┆ psavert ┆ uempmed ┆ unemploy │\n",
            "│ ---        ┆ ---   ┆ ---      ┆ ---     ┆ ---     ┆ ---      │\n",
            "│ str        ┆ f64   ┆ f64      ┆ f64     ┆ f64     ┆ f64      │\n",
            "╞════════════╪═══════╪══════════╪═════════╪═════════╪══════════╡\n",
            "│ 1967-07-01 ┆ 506.7 ┆ 198712.0 ┆ 12.6    ┆ 4.5     ┆ 2944.0   │\n",
            "│ 1967-08-01 ┆ 509.8 ┆ 198911.0 ┆ 12.6    ┆ 4.7     ┆ 2945.0   │\n",
            "│ 1967-09-01 ┆ 515.6 ┆ 199113.0 ┆ 11.9    ┆ 4.6     ┆ 2958.0   │\n",
            "│ 1967-10-01 ┆ 512.2 ┆ 199311.0 ┆ 12.9    ┆ 4.9     ┆ 3143.0   │\n",
            "│ 1967-11-01 ┆ 517.4 ┆ 199498.0 ┆ 12.8    ┆ 4.7     ┆ 3066.0   │\n",
            "└────────────┴───────┴──────────┴─────────┴─────────┴──────────┘\n"
          ]
        }
      ],
      "source": [
        "# Load economics_long data\n",
        "economics_long = pl.read_csv(\"https://raw.githubusercontent.com/philhetzel/opan5510-class12/refs/heads/main/data/economics_long.csv\")\n",
        "\n",
        "# YOUR CODE HERE: Pivot the data so that each unique value in 'variable' becomes its own column\n",
        "# Hint: Use the pivot() function\n",
        "# The index should be 'date', columns should come from 'variable', and values from 'value'\n",
        "\n",
        "economics_wide = economics_long.pivot(\n",
        "    index=\"date\",\n",
        "    on=\"variable\",\n",
        "    values=\"value\"\n",
        ")\n",
        "\n",
        "# Display the pivoted dataframe\n",
        "print(economics_wide.head())"
      ]
    },
    {
      "cell_type": "markdown",
      "metadata": {
        "id": "GOCr1_Hx8wZp"
      },
      "source": [
        "## 1b. Calculate median unemployment for 2010-01-01 and beyond\n",
        "\n",
        "Next, compute the median unemployment metric (as defined by `unemploy`) for 2010-01-01 and beyond.\n",
        "\n",
        "**Please write code below. The output should show the median value. You must use the dataframe created in 1a.**"
      ]
    },
    {
      "cell_type": "code",
      "execution_count": null,
      "metadata": {
        "colab": {
          "base_uri": "https://localhost:8080/"
        },
        "id": "PU-WgbPl8wZq",
        "outputId": "e64f1bbc-f2a0-42a4-b693-b20d81136a4b"
      },
      "outputs": [
        {
          "output_type": "stream",
          "name": "stdout",
          "text": [
            "The median unemployment for 2010-01-01 and beyond is: shape: (1, 1)\n",
            "┌─────────────────────┐\n",
            "│ median_unemployment │\n",
            "│ ---                 │\n",
            "│ f64                 │\n",
            "╞═════════════════════╡\n",
            "│ 12471.0             │\n",
            "└─────────────────────┘\n"
          ]
        }
      ],
      "source": [
        "# YOUR CODE HERE: Filter for dates >= '2010-01-01' and calculate median unemployment\n",
        "# Hint: You'll need to filter the dataframe and then calculate the median of the 'unemploy' column\n",
        "\n",
        "median_unemploy = (\n",
        "    economics_wide\n",
        "    .filter(pl.col(\"date\") >= \"2010-01-01\")\n",
        "    .select(pl.col(\"unemploy\").median().alias(\"median_unemployment\"))\n",
        ")\n",
        "\n",
        "print(f\"The median unemployment for 2010-01-01 and beyond is: {median_unemploy}\")"
      ]
    },
    {
      "cell_type": "markdown",
      "metadata": {
        "id": "xUcb49Ez8wZq"
      },
      "source": [
        "### Answer: The median unemployment for 2010-01-01 and beyond is: 12741"
      ]
    },
    {
      "cell_type": "markdown",
      "metadata": {
        "id": "G1QCrDz48wZq"
      },
      "source": [
        "# Question 2: Air Passenger data"
      ]
    },
    {
      "cell_type": "markdown",
      "metadata": {
        "id": "CvvUDApM8wZr"
      },
      "source": [
        "## 2a. Unpivot data\n",
        "\n",
        "The `AirPassengers` dataset is wide, which makes it difficult to aggregate. Transform the `AirPassengers` dataset from wide to long. The resulting dataset should have three columns: one column representing year, one column representing month, and one column representing the number of air passengers.\n",
        "\n",
        "**Please write code below to unpivot the data. The output should be a DataFrame. You must \"unpivot\" the data to receive full credit on this question.**"
      ]
    },
    {
      "cell_type": "code",
      "execution_count": null,
      "metadata": {
        "colab": {
          "base_uri": "https://localhost:8080/",
          "height": 711
        },
        "id": "1vd8msf88wZr",
        "outputId": "cb3407e0-2c9a-4c53-e245-91049ba18582"
      },
      "outputs": [
        {
          "output_type": "stream",
          "name": "stdout",
          "text": [
            "Original data shape: (12, 13)\n",
            "\n",
            "First few rows:\n",
            "shape: (5, 13)\n",
            "┌──────┬─────┬─────┬─────┬───┬─────┬─────┬─────┬─────┐\n",
            "│ Year ┆ Jan ┆ Feb ┆ Mar ┆ … ┆ Sep ┆ Oct ┆ Nov ┆ Dec │\n",
            "│ ---  ┆ --- ┆ --- ┆ --- ┆   ┆ --- ┆ --- ┆ --- ┆ --- │\n",
            "│ i64  ┆ i64 ┆ i64 ┆ i64 ┆   ┆ i64 ┆ i64 ┆ i64 ┆ i64 │\n",
            "╞══════╪═════╪═════╪═════╪═══╪═════╪═════╪═════╪═════╡\n",
            "│ 1949 ┆ 112 ┆ 118 ┆ 132 ┆ … ┆ 136 ┆ 119 ┆ 104 ┆ 118 │\n",
            "│ 1950 ┆ 115 ┆ 126 ┆ 141 ┆ … ┆ 158 ┆ 133 ┆ 114 ┆ 140 │\n",
            "│ 1951 ┆ 145 ┆ 150 ┆ 178 ┆ … ┆ 184 ┆ 162 ┆ 146 ┆ 166 │\n",
            "│ 1952 ┆ 171 ┆ 180 ┆ 193 ┆ … ┆ 209 ┆ 191 ┆ 172 ┆ 194 │\n",
            "│ 1953 ┆ 196 ┆ 196 ┆ 236 ┆ … ┆ 237 ┆ 211 ┆ 180 ┆ 201 │\n",
            "└──────┴─────┴─────┴─────┴───┴─────┴─────┴─────┴─────┘\n"
          ]
        },
        {
          "output_type": "execute_result",
          "data": {
            "text/plain": [
              "shape: (144, 3)\n",
              "┌──────┬───────┬──────────────────────┐\n",
              "│ Year ┆ month ┆ number_of_passengers │\n",
              "│ ---  ┆ ---   ┆ ---                  │\n",
              "│ i64  ┆ str   ┆ i64                  │\n",
              "╞══════╪═══════╪══════════════════════╡\n",
              "│ 1949 ┆ Jan   ┆ 112                  │\n",
              "│ 1950 ┆ Jan   ┆ 115                  │\n",
              "│ 1951 ┆ Jan   ┆ 145                  │\n",
              "│ 1952 ┆ Jan   ┆ 171                  │\n",
              "│ 1953 ┆ Jan   ┆ 196                  │\n",
              "│ …    ┆ …     ┆ …                    │\n",
              "│ 1956 ┆ Dec   ┆ 306                  │\n",
              "│ 1957 ┆ Dec   ┆ 336                  │\n",
              "│ 1958 ┆ Dec   ┆ 337                  │\n",
              "│ 1959 ┆ Dec   ┆ 405                  │\n",
              "│ 1960 ┆ Dec   ┆ 432                  │\n",
              "└──────┴───────┴──────────────────────┘"
            ],
            "text/html": [
              "<div><style>\n",
              ".dataframe > thead > tr,\n",
              ".dataframe > tbody > tr {\n",
              "  text-align: right;\n",
              "  white-space: pre-wrap;\n",
              "}\n",
              "</style>\n",
              "<small>shape: (144, 3)</small><table border=\"1\" class=\"dataframe\"><thead><tr><th>Year</th><th>month</th><th>number_of_passengers</th></tr><tr><td>i64</td><td>str</td><td>i64</td></tr></thead><tbody><tr><td>1949</td><td>&quot;Jan&quot;</td><td>112</td></tr><tr><td>1950</td><td>&quot;Jan&quot;</td><td>115</td></tr><tr><td>1951</td><td>&quot;Jan&quot;</td><td>145</td></tr><tr><td>1952</td><td>&quot;Jan&quot;</td><td>171</td></tr><tr><td>1953</td><td>&quot;Jan&quot;</td><td>196</td></tr><tr><td>&hellip;</td><td>&hellip;</td><td>&hellip;</td></tr><tr><td>1956</td><td>&quot;Dec&quot;</td><td>306</td></tr><tr><td>1957</td><td>&quot;Dec&quot;</td><td>336</td></tr><tr><td>1958</td><td>&quot;Dec&quot;</td><td>337</td></tr><tr><td>1959</td><td>&quot;Dec&quot;</td><td>405</td></tr><tr><td>1960</td><td>&quot;Dec&quot;</td><td>432</td></tr></tbody></table></div>"
            ]
          },
          "metadata": {},
          "execution_count": 8
        }
      ],
      "source": [
        "# Load AirPassengers data\n",
        "# Note: You may need to specify separator if it's not comma-separated\n",
        "air_passengers = pl.read_csv(\"https://raw.githubusercontent.com/philhetzel/opan5510-class12/refs/heads/main/data/AirPassengers.txt\", separator=\"\\t\")  # Adjust separator if needed\n",
        "\n",
        "# Display the original data structure\n",
        "print(\"Original data shape:\", air_passengers.shape)\n",
        "print(\"\\nFirst few rows:\")\n",
        "print(air_passengers.head())\n",
        "\n",
        "# YOUR CODE HERE: Transform from wide to long format\n",
        "# Hint: Use unpivot() function to unpivot the data\n",
        "# You'll need to identify which columns represent months and unpivot them\n",
        "# Use 'index' for columns to keep and 'on' for columns to unpivot\n",
        "\n",
        "air_passengers_long = air_passengers.unpivot(\n",
        "    index=[\"Year\"],\n",
        "    on=air_passengers.columns[1:],\n",
        "    variable_name=\"month\",\n",
        "    value_name=\"number_of_passengers\"\n",
        ")\n",
        "\n",
        "# Display the unpivoted dataframe\n",
        "air_passengers_long"
      ]
    },
    {
      "cell_type": "markdown",
      "metadata": {
        "id": "x2qWEjdp8wZr"
      },
      "source": [
        "## 2b. Find the standard deviation between 1955 and 1960\n",
        "\n",
        "Next, compute the standard deviation of passengers between (and including) the years 1955 and 1960.\n",
        "\n",
        "**Please write code below. The output should show the standard deviation. You must use the dataframe created in 2a.**"
      ]
    },
    {
      "cell_type": "code",
      "execution_count": null,
      "metadata": {
        "colab": {
          "base_uri": "https://localhost:8080/"
        },
        "id": "l7BHTkIt8wZr",
        "outputId": "0394b7bd-42a2-4264-9186-6303d1491b61"
      },
      "outputs": [
        {
          "output_type": "stream",
          "name": "stdout",
          "text": [
            "The standard deviation of airline passengers between 1955 and 1960 is: 86.44\n"
          ]
        }
      ],
      "source": [
        "# YOUR CODE HERE: Filter for years 1955-1960 and calculate standard deviation\n",
        "# Hint: Filter the long format data for years between 1955 and 1960 (inclusive)\n",
        "# Then calculate the standard deviation of the passenger values\n",
        "\n",
        "std_passengers = (\n",
        "    air_passengers_long\n",
        "    .filter((pl.col(\"Year\") >= 1955) & (pl.col(\"Year\") <= 1960))\n",
        "    .select(pl.col(\"number_of_passengers\").std()).item()\n",
        ")\n",
        "\n",
        "print(f\"The standard deviation of airline passengers between 1955 and 1960 is: {std_passengers:.2f}\")"
      ]
    },
    {
      "cell_type": "markdown",
      "metadata": {
        "id": "NVPX9crM8wZs"
      },
      "source": [
        "### The standard deviation of airline passengers between (and including) the years 1955 and 1960 is: 86.44"
      ]
    },
    {
      "cell_type": "markdown",
      "metadata": {
        "id": "quMDYbUg8wZs"
      },
      "source": [
        "# Question 3: WHO tuberculosis case data"
      ]
    },
    {
      "cell_type": "markdown",
      "metadata": {
        "id": "uXYeMmtF8wZs"
      },
      "source": [
        "## 3a. Pivot data\n",
        "\n",
        "Load the `table2.csv` dataset from the `data/` folder. This contains data for country populations and tuberculosis case metrics. You'll notice that the metrics for `cases` and `population` are in the same column (`count`). Pivot the data so that the metrics for `cases` and `population` are in their own columns.\n",
        "\n",
        "**Please write code below to pivot the data. The output should be a DataFrame. You must \"pivot\" the data to receive full credit on this question.**"
      ]
    },
    {
      "cell_type": "code",
      "execution_count": null,
      "metadata": {
        "colab": {
          "base_uri": "https://localhost:8080/",
          "height": 626
        },
        "id": "V_yJH-eb8wZs",
        "outputId": "3bc66d32-37b8-479c-bfcf-30509145dc3a"
      },
      "outputs": [
        {
          "output_type": "stream",
          "name": "stdout",
          "text": [
            "Original data:\n",
            "shape: (12, 5)\n",
            "┌──────────┬─────────────┬──────┬────────────┬────────────┐\n",
            "│ rownames ┆ country     ┆ year ┆ type       ┆ count      │\n",
            "│ ---      ┆ ---         ┆ ---  ┆ ---        ┆ ---        │\n",
            "│ i64      ┆ str         ┆ i64  ┆ str        ┆ i64        │\n",
            "╞══════════╪═════════════╪══════╪════════════╪════════════╡\n",
            "│ 1        ┆ Afghanistan ┆ 1999 ┆ cases      ┆ 745        │\n",
            "│ 2        ┆ Afghanistan ┆ 1999 ┆ population ┆ 19987071   │\n",
            "│ 3        ┆ Afghanistan ┆ 2000 ┆ cases      ┆ 2666       │\n",
            "│ 4        ┆ Afghanistan ┆ 2000 ┆ population ┆ 20595360   │\n",
            "│ 5        ┆ Brazil      ┆ 1999 ┆ cases      ┆ 37737      │\n",
            "│ …        ┆ …           ┆ …    ┆ …          ┆ …          │\n",
            "│ 8        ┆ Brazil      ┆ 2000 ┆ population ┆ 174504898  │\n",
            "│ 9        ┆ China       ┆ 1999 ┆ cases      ┆ 212258     │\n",
            "│ 10       ┆ China       ┆ 1999 ┆ population ┆ 1272915272 │\n",
            "│ 11       ┆ China       ┆ 2000 ┆ cases      ┆ 213766     │\n",
            "│ 12       ┆ China       ┆ 2000 ┆ population ┆ 1280428583 │\n",
            "└──────────┴─────────────┴──────┴────────────┴────────────┘\n"
          ]
        },
        {
          "output_type": "execute_result",
          "data": {
            "text/plain": [
              "shape: (6, 4)\n",
              "┌─────────────┬──────┬────────┬────────────┐\n",
              "│ country     ┆ year ┆ cases  ┆ population │\n",
              "│ ---         ┆ ---  ┆ ---    ┆ ---        │\n",
              "│ str         ┆ i64  ┆ i64    ┆ i64        │\n",
              "╞═════════════╪══════╪════════╪════════════╡\n",
              "│ Afghanistan ┆ 1999 ┆ 745    ┆ 19987071   │\n",
              "│ Afghanistan ┆ 2000 ┆ 2666   ┆ 20595360   │\n",
              "│ Brazil      ┆ 1999 ┆ 37737  ┆ 172006362  │\n",
              "│ Brazil      ┆ 2000 ┆ 80488  ┆ 174504898  │\n",
              "│ China       ┆ 1999 ┆ 212258 ┆ 1272915272 │\n",
              "│ China       ┆ 2000 ┆ 213766 ┆ 1280428583 │\n",
              "└─────────────┴──────┴────────┴────────────┘"
            ],
            "text/html": [
              "<div><style>\n",
              ".dataframe > thead > tr,\n",
              ".dataframe > tbody > tr {\n",
              "  text-align: right;\n",
              "  white-space: pre-wrap;\n",
              "}\n",
              "</style>\n",
              "<small>shape: (6, 4)</small><table border=\"1\" class=\"dataframe\"><thead><tr><th>country</th><th>year</th><th>cases</th><th>population</th></tr><tr><td>str</td><td>i64</td><td>i64</td><td>i64</td></tr></thead><tbody><tr><td>&quot;Afghanistan&quot;</td><td>1999</td><td>745</td><td>19987071</td></tr><tr><td>&quot;Afghanistan&quot;</td><td>2000</td><td>2666</td><td>20595360</td></tr><tr><td>&quot;Brazil&quot;</td><td>1999</td><td>37737</td><td>172006362</td></tr><tr><td>&quot;Brazil&quot;</td><td>2000</td><td>80488</td><td>174504898</td></tr><tr><td>&quot;China&quot;</td><td>1999</td><td>212258</td><td>1272915272</td></tr><tr><td>&quot;China&quot;</td><td>2000</td><td>213766</td><td>1280428583</td></tr></tbody></table></div>"
            ]
          },
          "metadata": {},
          "execution_count": 15
        }
      ],
      "source": [
        "# Load table2 data\n",
        "table2 = pl.read_csv(\"https://raw.githubusercontent.com/philhetzel/opan5510-class12/refs/heads/main/data/table2.csv\")\n",
        "\n",
        "# Display the original data structure\n",
        "print(\"Original data:\")\n",
        "print(table2)\n",
        "\n",
        "# YOUR CODE HERE: Pivot the data so 'cases' and 'population' are separate columns\n",
        "# Hint: Use pivot() where the values in 'type' column become new column names\n",
        "# and values come from the 'count' column\n",
        "\n",
        "table2_wide = table2.pivot(\n",
        "    index=[\"country\", \"year\"],\n",
        "    on=\"type\",\n",
        "    values=\"count\"\n",
        ")\n",
        "\n",
        "# Display the pivoted dataframe\n",
        "table2_wide"
      ]
    },
    {
      "cell_type": "markdown",
      "metadata": {
        "id": "VEHtj1ZY8wZs"
      },
      "source": [
        "## 3b. Calculate highest cases/population ratio for 1999\n",
        "\n",
        "Now that you have `cases` and `population` in their own columns, you can perform analysis. Create a new column in this dataset called `ratio` that divides `cases` by `population`. Next, filter the data to only include rows from the `year` of 1999. What is the country with the highest `cases`/`population` ratio?\n",
        "\n",
        "**Please write code below. You must use the dataframe created in 3a.**"
      ]
    },
    {
      "cell_type": "code",
      "execution_count": null,
      "metadata": {
        "colab": {
          "base_uri": "https://localhost:8080/"
        },
        "id": "mLDZQVz48wZt",
        "outputId": "4973e6ae-15e7-40cc-9ceb-856fe5db54b2"
      },
      "outputs": [
        {
          "output_type": "stream",
          "name": "stdout",
          "text": [
            "Data for 1999 with ratios:\n",
            "shape: (3, 5)\n",
            "┌─────────────┬──────┬────────┬────────────┬──────────┐\n",
            "│ country     ┆ year ┆ cases  ┆ population ┆ ratio    │\n",
            "│ ---         ┆ ---  ┆ ---    ┆ ---        ┆ ---      │\n",
            "│ str         ┆ i64  ┆ i64    ┆ i64        ┆ f64      │\n",
            "╞═════════════╪══════╪════════╪════════════╪══════════╡\n",
            "│ Afghanistan ┆ 1999 ┆ 745    ┆ 19987071   ┆ 0.000037 │\n",
            "│ Brazil      ┆ 1999 ┆ 37737  ┆ 172006362  ┆ 0.000219 │\n",
            "│ China       ┆ 1999 ┆ 212258 ┆ 1272915272 ┆ 0.000167 │\n",
            "└─────────────┴──────┴────────┴────────────┴──────────┘\n",
            "\n",
            "The country with the highest cases/population ratio in 1999 is: shape: (1, 2)\n",
            "┌─────────┬──────────┐\n",
            "│ country ┆ ratio    │\n",
            "│ ---     ┆ ---      │\n",
            "│ str     ┆ f64      │\n",
            "╞═════════╪══════════╡\n",
            "│ Brazil  ┆ 0.000219 │\n",
            "└─────────┴──────────┘\n"
          ]
        }
      ],
      "source": [
        "# YOUR CODE HERE:\n",
        "# 1. Add a 'ratio' column that calculates cases/population\n",
        "# 2. Filter for year 1999\n",
        "# 3. Find the country with the highest ratio\n",
        "\n",
        "table2_with_ratio = table2_wide.with_columns(\n",
        "    (pl.col(\"cases\") / pl.col(\"population\")).alias(\"ratio\")\n",
        ")\n",
        "\n",
        "# Filter for 1999 and find highest ratio\n",
        "year_1999 = table2_with_ratio.filter(pl.col(\"year\") == 1999)\n",
        "\n",
        "# Find country with highest ratio\n",
        "highest_ratio_country = (\n",
        "    year_1999\n",
        "    .sort(\"ratio\", descending=True)\n",
        "    .select(\"country\", \"ratio\")\n",
        "    .head(1)\n",
        ")\n",
        "\n",
        "print(\"Data for 1999 with ratios:\")\n",
        "print(year_1999)\n",
        "print(f\"\\nThe country with the highest cases/population ratio in 1999 is: {highest_ratio_country}\")"
      ]
    },
    {
      "cell_type": "markdown",
      "metadata": {
        "id": "WJJ-rWMj8wZt"
      },
      "source": [
        "### Answer: The country with the highest cases/population ratio in 1999 is: Brazil"
      ]
    },
    {
      "cell_type": "markdown",
      "metadata": {
        "id": "Zv9Z-xne8wZt"
      },
      "source": [
        "## Submission Instructions\n",
        "\n",
        "1. Complete all code cells above\n",
        "2. Run all cells to ensure they execute without errors\n",
        "3. Fill in the answer blanks with your computed values\n",
        "4. Save and submit your completed notebook"
      ]
    }
  ],
  "metadata": {
    "kernelspec": {
      "display_name": "Python 3",
      "language": "python",
      "name": "python3"
    },
    "language_info": {
      "codemirror_mode": {
        "name": "ipython",
        "version": 3
      },
      "file_extension": ".py",
      "mimetype": "text/x-python",
      "name": "python",
      "nbconvert_exporter": "python",
      "pygments_lexer": "ipython3",
      "version": "3.9.0"
    },
    "colab": {
      "provenance": []
    }
  },
  "nbformat": 4,
  "nbformat_minor": 0
}